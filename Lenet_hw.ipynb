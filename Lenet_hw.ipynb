{
  "nbformat": 4,
  "nbformat_minor": 0,
  "metadata": {
    "colab": {
      "name": "Lenet_hw.ipynb",
      "provenance": [],
      "authorship_tag": "ABX9TyMv0R62n0yHHdJv5PdBiIGR",
      "include_colab_link": true
    },
    "kernelspec": {
      "name": "python3",
      "display_name": "Python 3"
    },
    "accelerator": "GPU"
  },
  "cells": [
    {
      "cell_type": "markdown",
      "metadata": {
        "id": "view-in-github",
        "colab_type": "text"
      },
      "source": [
        "<a href=\"https://colab.research.google.com/github/passionlee428/my-repo/blob/master/Lenet_hw.ipynb\" target=\"_parent\"><img src=\"https://colab.research.google.com/assets/colab-badge.svg\" alt=\"Open In Colab\"/></a>"
      ]
    },
    {
      "cell_type": "code",
      "metadata": {
        "id": "b41yk-w261hR",
        "colab_type": "code",
        "colab": {
          "base_uri": "https://localhost:8080/",
          "height": 332
        },
        "outputId": "cbab2fe9-0f63-4ec4-8981-ef083630d950"
      },
      "source": [
        "\n",
        "!nvidia-smi\n",
        "import torch\n",
        "import torch.nn as nn\n",
        "import numpy as np\n",
        "import matplotlib.pyplot as plt\n",
        "print(torch.__version__)"
      ],
      "execution_count": 3,
      "outputs": [
        {
          "output_type": "stream",
          "text": [
            "Mon Apr 27 05:37:07 2020       \n",
            "+-----------------------------------------------------------------------------+\n",
            "| NVIDIA-SMI 440.64.00    Driver Version: 418.67       CUDA Version: 10.1     |\n",
            "|-------------------------------+----------------------+----------------------+\n",
            "| GPU  Name        Persistence-M| Bus-Id        Disp.A | Volatile Uncorr. ECC |\n",
            "| Fan  Temp  Perf  Pwr:Usage/Cap|         Memory-Usage | GPU-Util  Compute M. |\n",
            "|===============================+======================+======================|\n",
            "|   0  Tesla P4            Off  | 00000000:00:04.0 Off |                    0 |\n",
            "| N/A   33C    P8     7W /  75W |      0MiB /  7611MiB |      0%      Default |\n",
            "+-------------------------------+----------------------+----------------------+\n",
            "                                                                               \n",
            "+-----------------------------------------------------------------------------+\n",
            "| Processes:                                                       GPU Memory |\n",
            "|  GPU       PID   Type   Process name                             Usage      |\n",
            "|=============================================================================|\n",
            "|  No running processes found                                                 |\n",
            "+-----------------------------------------------------------------------------+\n",
            "1.4.0\n"
          ],
          "name": "stdout"
        }
      ]
    },
    {
      "cell_type": "code",
      "metadata": {
        "id": "_ZyFcPQS67QF",
        "colab_type": "code",
        "colab": {
          "base_uri": "https://localhost:8080/",
          "height": 34
        },
        "outputId": "0bfee13e-b34c-4274-b8ae-46c3b64a7bb1"
      },
      "source": [
        "# check if CUDA is available\n",
        "train_on_gpu = torch.cuda.is_available()\n",
        "\n",
        "if not train_on_gpu:\n",
        "    print('CUDA is not available.  Training on CPU ...')\n",
        "else:\n",
        "    print('CUDA is available!  Training on GPU ...')"
      ],
      "execution_count": 4,
      "outputs": [
        {
          "output_type": "stream",
          "text": [
            "CUDA is available!  Training on GPU ...\n"
          ],
          "name": "stdout"
        }
      ]
    },
    {
      "cell_type": "code",
      "metadata": {
        "id": "lA_ZqWTP6_qX",
        "colab_type": "code",
        "colab": {}
      },
      "source": [
        "class MyCNN(nn.Module):\n",
        "    def __init__(self):\n",
        "        super(MyCNN, self).__init__()\n",
        "        \"\"\"\n",
        "        implement code here\n",
        "        \"\"\"\n",
        "        self.layer1 = nn.Sequential(nn.Conv2d(3,6,kernel_size=5, stride = 1),\n",
        "                                    nn.Sigmoid(),\n",
        "                                    nn.AvgPool2d(2, stride = 2))\n",
        "        self.layer2 = nn.Sequential(nn.Conv2d(6,16,kernel_size = 5),\n",
        "                                    nn.Sigmoid(),\n",
        "                                    nn.AvgPool2d(2, stride = 2))\n",
        "        \n",
        "        self.fc1 = nn.Linear(16*5*5,120)\n",
        "        self.sigmoid = nn.Sigmoid()\n",
        "        self.fc2 = nn.Linear(120,84)\n",
        "        self.fc3 = nn.Linear(84,10)\n",
        "\n",
        "    def forward(self, inputs):\n",
        "\n",
        "        \"\"\"\n",
        "        implement code here\n",
        "        \"\"\"\n",
        "        outputs = self.layer1(inputs)\n",
        "        outputs = self.layer2(outputs)\n",
        "\n",
        "        outputs = outputs.view(outputs.size(0), -1) # flatten \n",
        "        \n",
        "        outputs = self.fc1(outputs)\n",
        "        outputs = self.fc2(outputs)\n",
        "        outputs = self.fc3(outputs)\n",
        "\n",
        "        return outputs\n",
        "\n",
        "    def num_flat_features(self, x):\n",
        "        size = x.size()[1:]\n",
        "        num_features = 1\n",
        "        for s in size:\n",
        "          num_features *= s\n",
        "        return num_features\n",
        "\n",
        "model = MyCNN().cuda()\n",
        "\n",
        "# Loss function & Optimizers\n",
        "\"\"\"\n",
        "you can change the loss and optimizer\n",
        "\"\"\"\n",
        "criterion = torch.nn.CrossEntropyLoss()\n",
        "optimizer = torch.optim.Adam(model.parameters(), lr=0.001, weight_decay=1e-4)\n",
        "\n",
        "\n",
        "# Hyperparameters\n",
        "\"\"\"\n",
        "you can change the value\n",
        "\"\"\"\n",
        "num_epochs = 200\n",
        "batch_size = 128"
      ],
      "execution_count": 0,
      "outputs": []
    },
    {
      "cell_type": "code",
      "metadata": {
        "id": "TlKRvD18IyUQ",
        "colab_type": "code",
        "colab": {
          "base_uri": "https://localhost:8080/",
          "height": 297
        },
        "outputId": "19cfa934-e832-432e-a20f-c145a7c933d1"
      },
      "source": [
        "print (model)"
      ],
      "execution_count": 21,
      "outputs": [
        {
          "output_type": "stream",
          "text": [
            "MyCNN(\n",
            "  (layer1): Sequential(\n",
            "    (0): Conv2d(3, 6, kernel_size=(5, 5), stride=(1, 1))\n",
            "    (1): Sigmoid()\n",
            "    (2): AvgPool2d(kernel_size=2, stride=2, padding=0)\n",
            "  )\n",
            "  (layer2): Sequential(\n",
            "    (0): Conv2d(6, 16, kernel_size=(5, 5), stride=(1, 1))\n",
            "    (1): Sigmoid()\n",
            "    (2): AvgPool2d(kernel_size=2, stride=2, padding=0)\n",
            "  )\n",
            "  (fc1): Linear(in_features=400, out_features=120, bias=True)\n",
            "  (sigmoid): Sigmoid()\n",
            "  (fc2): Linear(in_features=120, out_features=84, bias=True)\n",
            "  (fc3): Linear(in_features=84, out_features=10, bias=True)\n",
            ")\n"
          ],
          "name": "stdout"
        }
      ]
    },
    {
      "cell_type": "code",
      "metadata": {
        "id": "iLQUkhpIQl84",
        "colab_type": "code",
        "colab": {
          "base_uri": "https://localhost:8080/",
          "height": 34
        },
        "outputId": "03950188-b0d1-434c-c3bd-22a0dfae2ba7"
      },
      "source": [
        "train_x.shape"
      ],
      "execution_count": 22,
      "outputs": [
        {
          "output_type": "execute_result",
          "data": {
            "text/plain": [
              "torch.Size([128, 3, 32, 32])"
            ]
          },
          "metadata": {
            "tags": []
          },
          "execution_count": 22
        }
      ]
    },
    {
      "cell_type": "markdown",
      "metadata": {
        "id": "_yBoDhWQ7PaD",
        "colab_type": "text"
      },
      "source": [
        "# Training and Evaluation"
      ]
    },
    {
      "cell_type": "code",
      "metadata": {
        "id": "O6CHvEiT7Ask",
        "colab_type": "code",
        "colab": {
          "base_uri": "https://localhost:8080/",
          "height": 1000
        },
        "outputId": "5e966ad4-886d-4d92-9576-f3f009b10997"
      },
      "source": [
        "import sys\n",
        "sys.path.insert(0, \"..\")\n",
        "from torch.utils.data import DataLoader\n",
        "import torchvision\n",
        "import torchvision.transforms as transforms\n",
        "\n",
        "# CIFAR preprocessing \n",
        "transform_train = transforms.Compose([\n",
        "    transforms.RandomCrop(32, padding=4),\n",
        "    transforms.RandomHorizontalFlip(),\n",
        "    transforms.ToTensor(),\n",
        "    transforms.Normalize((0.4914, 0.4822, 0.4465), (0.2023, 0.1994, 0.2010)),\n",
        "])\n",
        "\n",
        "transform_test = transforms.Compose([\n",
        "    transforms.ToTensor(),\n",
        "    transforms.Normalize((0.4914, 0.4822, 0.4465), (0.2023, 0.1994, 0.2010)),\n",
        "])\n",
        "\n",
        "# DataLoader for CIFAR-10\n",
        "cifar_train = torchvision.datasets.CIFAR10(root=\"./\", \n",
        "                                         train=True, \n",
        "                                         download=True,\n",
        "                                         transform=transform_train\n",
        "                                         )\n",
        "cifar_test = torchvision.datasets.CIFAR10(root=\"./\", \n",
        "                                        train=False, \n",
        "                                        download=True,\n",
        "                                        transform=transform_test)\n",
        "\n",
        "\n",
        "train_loader = DataLoader(cifar_train, batch_size=batch_size, shuffle=True, num_workers=4)\n",
        "test_loader = DataLoader(cifar_test, batch_size=batch_size, shuffle=False, num_workers=4)\n",
        "\n",
        " \n",
        "accuracy_graph = {'train':[], 'test':[], 'epoch': []}\n",
        "loss_graph = {'train':[], 'test':[], 'epoch': []}\n",
        "\n",
        "class accumulator():\n",
        "    def __init__(self):\n",
        "        self.cnt = 0\n",
        "        self.obs = 0\n",
        "        self.loss = 0\n",
        "\n",
        "    def add(self, predict, output):\n",
        "\n",
        "        assert len(predict) == len(output)\n",
        "\n",
        "        self.cnt += self.count(predict, output).cpu().numpy()\n",
        "        self.obs += len(predict)\n",
        "    \n",
        "    def count(self, predict, output):\n",
        "        correct = torch.sum(torch.argmax(predict, dim=1) == output)\n",
        "        \n",
        "        return correct\n",
        "        \n",
        "    def loss_update(self, loss, batch_size):\n",
        "        self.loss += loss * batch_size\n",
        "\n",
        "    def running_stat(self):\n",
        "        if self.obs != 0:\n",
        "            run_acc = 100 * self.cnt / self.obs\n",
        "            run_loss = self.loss / self.obs\n",
        "        else: \n",
        "            run_acc = 0\n",
        "            rum_loss = 0\n",
        "\n",
        "        return run_acc, run_loss\n",
        "\n",
        "    def reset(self):\n",
        "        self.__init__()\n",
        "\n",
        "\n",
        "for epoch in range(num_epochs):\n",
        "\n",
        "    train_accuracy = accumulator()\n",
        "    test_accuracy = accumulator()\n",
        "\n",
        "    # Training\n",
        "    for train_x, train_y in train_loader: \n",
        "\n",
        "        train_x, train_y = train_x.cuda(), train_y.cuda()\n",
        "        train_predict = model(train_x)\n",
        "        loss = criterion(train_predict, train_y)\n",
        "\n",
        "        # Backpropagation        \n",
        "        optimizer.zero_grad()\n",
        "        loss.backward()\n",
        "        optimizer.step()\n",
        "\n",
        "        train_accuracy.add(train_predict, train_y)\n",
        "        train_accuracy.loss_update(loss, batch_size)\n",
        "\n",
        "    # Evaluation\n",
        "    if epoch % 10 ==0:\n",
        "             \n",
        "        for test_x, test_y in test_loader:\n",
        "\n",
        "            with torch.autograd.no_grad():\n",
        "                test_x, test_y = test_x.cuda(), test_y.cuda()\n",
        "                test_predict = model(test_x)\n",
        "                test_accuracy.add(test_predict, test_y)\n",
        "\n",
        "            loss_test = criterion(test_predict, test_y)\n",
        "            test_accuracy.loss_update(loss_test, batch_size)\n",
        "\n",
        "        train_acc, train_loss = train_accuracy.running_stat()\n",
        "        test_acc, test_loss = test_accuracy.running_stat()\n",
        "        accuracy_graph['train'].append(train_acc)\n",
        "        accuracy_graph['test'].append(test_acc) \n",
        "        accuracy_graph['epoch'].append(epoch)\n",
        "        loss_graph['train'].append(train_loss)\n",
        "        loss_graph['test'].append(test_loss)\n",
        "        loss_graph['epoch'].append(epoch)\n",
        "        \n",
        "        print(\"\\ntrain accuracy: {:.2f} %, test accuracy: {:.2f} %\".format(train_acc, test_acc))\n",
        "        print(\"epoch:{}, train_loss: {:.4f}, test_loss: {:.4f}\".format(epoch+1, train_loss, test_loss)) \n",
        "\n",
        "        train_accuracy.reset(), test_accuracy.reset()\n",
        "\n",
        "\n",
        "plt.plot(accuracy_graph['epoch'], accuracy_graph['train'], label = \"train accuracy\");\n",
        "plt.plot(accuracy_graph['epoch'], accuracy_graph['test'], label = \"test_accuracy\");\n",
        "plt.legend()\n",
        "plt.xlabel(\"epoch\")\n",
        "plt.ylabel(\"accuracy\")\n",
        "plt.show()\n",
        "\n",
        "plot_loss_train = plt.plot(loss_graph['epoch'], loss_graph['train'], label=\"train loss\");\n",
        "plt.plot(loss_graph['epoch'], loss_graph['test'], label=\"test loss\");\n",
        "plt.legend()\n",
        "plt.xlabel(\"epoch\")\n",
        "plt.ylabel(\"loss\")\n",
        "plt.show()"
      ],
      "execution_count": 23,
      "outputs": [
        {
          "output_type": "stream",
          "text": [
            "Files already downloaded and verified\n",
            "Files already downloaded and verified\n",
            "\n",
            "train accuracy: 24.39 %, test accuracy: 32.56 %\n",
            "epoch:1, train_loss: 2.0452, test_loss: 1.8771\n",
            "\n",
            "train accuracy: 44.73 %, test accuracy: 48.77 %\n",
            "epoch:11, train_loss: 1.5275, test_loss: 1.4317\n",
            "\n",
            "train accuracy: 48.26 %, test accuracy: 52.36 %\n",
            "epoch:21, train_loss: 1.4419, test_loss: 1.3486\n",
            "\n",
            "train accuracy: 50.08 %, test accuracy: 54.30 %\n",
            "epoch:31, train_loss: 1.3931, test_loss: 1.2902\n",
            "\n",
            "train accuracy: 50.98 %, test accuracy: 55.32 %\n",
            "epoch:41, train_loss: 1.3594, test_loss: 1.2595\n",
            "\n",
            "train accuracy: 52.24 %, test accuracy: 55.81 %\n",
            "epoch:51, train_loss: 1.3303, test_loss: 1.2359\n",
            "\n",
            "train accuracy: 53.64 %, test accuracy: 56.64 %\n",
            "epoch:61, train_loss: 1.3045, test_loss: 1.2181\n",
            "\n",
            "train accuracy: 53.81 %, test accuracy: 57.99 %\n",
            "epoch:71, train_loss: 1.2921, test_loss: 1.1974\n",
            "\n",
            "train accuracy: 54.76 %, test accuracy: 58.68 %\n",
            "epoch:81, train_loss: 1.2754, test_loss: 1.1767\n",
            "\n",
            "train accuracy: 55.12 %, test accuracy: 58.09 %\n",
            "epoch:91, train_loss: 1.2658, test_loss: 1.1873\n",
            "\n",
            "train accuracy: 55.51 %, test accuracy: 58.91 %\n",
            "epoch:101, train_loss: 1.2584, test_loss: 1.1707\n",
            "\n",
            "train accuracy: 56.04 %, test accuracy: 59.46 %\n",
            "epoch:111, train_loss: 1.2432, test_loss: 1.1562\n",
            "\n",
            "train accuracy: 56.35 %, test accuracy: 60.61 %\n",
            "epoch:121, train_loss: 1.2359, test_loss: 1.1282\n",
            "\n",
            "train accuracy: 56.61 %, test accuracy: 60.86 %\n",
            "epoch:131, train_loss: 1.2265, test_loss: 1.1232\n",
            "\n",
            "train accuracy: 57.19 %, test accuracy: 61.01 %\n",
            "epoch:141, train_loss: 1.2091, test_loss: 1.1159\n",
            "\n",
            "train accuracy: 57.31 %, test accuracy: 61.23 %\n",
            "epoch:151, train_loss: 1.2099, test_loss: 1.1236\n",
            "\n",
            "train accuracy: 57.70 %, test accuracy: 61.68 %\n",
            "epoch:161, train_loss: 1.1966, test_loss: 1.0983\n",
            "\n",
            "train accuracy: 58.06 %, test accuracy: 61.47 %\n",
            "epoch:171, train_loss: 1.1869, test_loss: 1.0939\n",
            "\n",
            "train accuracy: 58.63 %, test accuracy: 61.75 %\n",
            "epoch:181, train_loss: 1.1811, test_loss: 1.0930\n",
            "\n",
            "train accuracy: 58.55 %, test accuracy: 61.53 %\n",
            "epoch:191, train_loss: 1.1752, test_loss: 1.0984\n"
          ],
          "name": "stdout"
        },
        {
          "output_type": "display_data",
          "data": {
            "image/png": "[encoded data removed]",
            "text/plain": [
              "<Figure size 432x288 with 1 Axes>"
            ]
          },
          "metadata": {
            "tags": [],
            "needs_background": "light"
          }
        },
        {
          "output_type": "display_data",
          "data": {
            "image/png": "[encoded data removed]",
            "text/plain": [
              "<Figure size 432x288 with 1 Axes>"
            ]
          },
          "metadata": {
            "tags": [],
            "needs_background": "light"
          }
        }
      ]
    },
    {
      "cell_type": "code",
      "metadata": {
        "id": "4j76yAdH7A2z",
        "colab_type": "code",
        "colab": {}
      },
      "source": [
        ""
      ],
      "execution_count": 0,
      "outputs": []
    },
    {
      "cell_type": "code",
      "metadata": {
        "id": "GbTA7MTX7A-s",
        "colab_type": "code",
        "colab": {}
      },
      "source": [
        ""
      ],
      "execution_count": 0,
      "outputs": []
    }
  ]
}